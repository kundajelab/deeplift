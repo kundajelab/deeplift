{
 "cells": [
  {
   "cell_type": "code",
   "execution_count": 1,
   "metadata": {
    "collapsed": false
   },
   "outputs": [
    {
     "name": "stderr",
     "output_type": "stream",
     "text": [
      "Using gpu device 0: GeForce GT 750M (CNMeM is disabled, CuDNN not available)\n",
      "/Users/avantishrikumar/anaconda/lib/python2.7/site-packages/theano/tensor/signal/downsample.py:5: UserWarning: downsample module has been moved to the pool module.\n",
      "  warnings.warn(\"downsample module has been moved to the pool module.\")\n"
     ]
    }
   ],
   "source": [
    "%matplotlib inline\n",
    "from __future__ import division;\n",
    "from __future__ import print_function;\n",
    "from __future__ import absolute_import;\n",
    "import sys, os;\n",
    "from collections import OrderedDict, namedtuple;\n",
    "import numpy as np;\n",
    "\n",
    "#import deepLIFT stuff\n",
    "scriptsDir = os.environ.get(\"DEEPLIFT_DIR\");\n",
    "if (scriptsDir is None):\n",
    "    raise Exception(\"Please set environment variable DEEPLIFT_DIR to point to the deeplift code (WITHIN the deeplift repo)\");\n",
    "sys.path.insert(0,scriptsDir);\n",
    "#Make sure the directory is set to import the lab's version of keras\n",
    "scriptsDir = os.environ.get(\"KERAS_DIR\");\n",
    "if (scriptsDir is None):\n",
    "    raise Exception(\"Please set environment variable KERAS_DIR\");\n",
    "sys.path.insert(0,scriptsDir)\n",
    "\n",
    "import keras_conversion as kc\n",
    "import theano\n",
    "import models\n",
    "from blobs import MxtsMode\n",
    "import deeplift_util"
   ]
  },
  {
   "cell_type": "code",
   "execution_count": 2,
   "metadata": {
    "collapsed": false
   },
   "outputs": [
    {
     "name": "stderr",
     "output_type": "stream",
     "text": [
      "Using Theano backend.\n"
     ]
    }
   ],
   "source": [
    "reload(kc)\n",
    "model_weights  = \"mar31_diff_and_present_peaks_datasetLeuk_75M_logpval5_diffmethoddeseq_top400000_peaksize1000_jitter50_noGCmatch_softmaxDiffTasks_CustomModel_GraphSoftmax_currentBest_epoch_5_modelWeights.h5\"\n",
    "model_yaml = \"mar31_diff_and_present_peaks_datasetLeuk_75M_logpval5_diffmethoddeseq_top400000_peaksize1000_jitter50_noGCmatch_softmaxDiffTasks_CustomModel_GraphSoftmax_currentBest_epoch_5_modelYaml.yaml\"\n",
    "keras_model = kc.load_keras_model(model_weights, model_yaml,\n",
    "                                  normalise_conv_for_one_hot_encoded_input=True,\n",
    "                                  name_of_conv_layer_to_normalise=\"conv1\")"
   ]
  },
  {
   "cell_type": "code",
   "execution_count": 3,
   "metadata": {
    "collapsed": false
   },
   "outputs": [
    {
     "data": {
      "text/plain": [
       "{'cache_enabled': True,\n",
       " 'custom_name': 'input',\n",
       " 'input_shape': (1, 4, 1000),\n",
       " 'name': 'Layer',\n",
       " 'trainable': True}"
      ]
     },
     "execution_count": 3,
     "metadata": {},
     "output_type": "execute_result"
    }
   ],
   "source": [
    "keras_model.inputs['input'].get_config()"
   ]
  },
  {
   "cell_type": "code",
   "execution_count": 4,
   "metadata": {
    "collapsed": false
   },
   "outputs": [
    {
     "data": {
      "text/plain": [
       "{'W_constraint': None,\n",
       " 'W_learning_rate_multiplier': None,\n",
       " 'W_regularizer': None,\n",
       " 'activation': 'linear',\n",
       " 'activity_regularizer': None,\n",
       " 'b_constraint': None,\n",
       " 'b_learning_rate_multiplier': None,\n",
       " 'b_regularizer': None,\n",
       " 'cache_enabled': True,\n",
       " 'custom_name': 'softmax_for_col_LMPPvLSC_dense',\n",
       " 'init': 'glorot_uniform',\n",
       " 'input_dim': None,\n",
       " 'name': 'Dense',\n",
       " 'output_dim': 3,\n",
       " 'trainable': True}"
      ]
     },
     "execution_count": 4,
     "metadata": {},
     "output_type": "execute_result"
    }
   ],
   "source": [
    "keras_model.nodes['softmax_for_col_LMPPvLSC_dense'].get_config()"
   ]
  },
  {
   "cell_type": "code",
   "execution_count": 5,
   "metadata": {
    "collapsed": false,
    "scrolled": false
   },
   "outputs": [
    {
     "data": {
      "text/plain": [
       "['conv1',\n",
       " 'activ1',\n",
       " 'pool1',\n",
       " 'conv2',\n",
       " 'activ2',\n",
       " 'pool2',\n",
       " 'flatten1',\n",
       " 'fc1',\n",
       " 'activ3',\n",
       " 'drop1',\n",
       " 'fc2',\n",
       " 'activ4',\n",
       " 'drop2',\n",
       " 'binary_peaks_dense',\n",
       " 'binary_peaks_activ',\n",
       " 'softmax_for_col_LMPPvLSC_dense',\n",
       " 'softmax_for_col_LMPPvLSC_activ',\n",
       " 'softmax_for_col_HSCvGMP_dense',\n",
       " 'softmax_for_col_HSCvGMP_activ',\n",
       " 'softmax_for_col_LMPPvLeuk_dense',\n",
       " 'softmax_for_col_LMPPvLeuk_activ',\n",
       " 'softmax_for_col_MPPvMonocyte_dense',\n",
       " 'softmax_for_col_MPPvMonocyte_activ',\n",
       " 'softmax_for_col_LSCvLeuk_dense',\n",
       " 'softmax_for_col_LSCvLeuk_activ',\n",
       " 'softmax_for_col_CLPvNKcell_dense',\n",
       " 'softmax_for_col_CLPvNKcell_activ',\n",
       " 'softmax_for_col_MPPvBcell_dense',\n",
       " 'softmax_for_col_MPPvBcell_activ',\n",
       " 'softmax_for_col_CLPvCD4_dense',\n",
       " 'softmax_for_col_CLPvCD4_activ',\n",
       " 'softmax_for_col_GMPvLSC_dense',\n",
       " 'softmax_for_col_GMPvLSC_activ',\n",
       " 'softmax_for_col_MPPvMEP_dense',\n",
       " 'softmax_for_col_MPPvMEP_activ',\n",
       " 'softmax_for_col_MPPvGMP_dense',\n",
       " 'softmax_for_col_MPPvGMP_activ',\n",
       " 'softmax_for_col_GMPvMonocyte_dense',\n",
       " 'softmax_for_col_GMPvMonocyte_activ',\n",
       " 'softmax_for_col_CLPvCD8_dense',\n",
       " 'softmax_for_col_CLPvCD8_activ',\n",
       " 'softmax_for_col_MPPvCLP_dense',\n",
       " 'softmax_for_col_MPPvCLP_activ',\n",
       " 'softmax_for_col_HSCvCLP_dense',\n",
       " 'softmax_for_col_HSCvCLP_activ',\n",
       " 'softmax_for_col_MPPvNKcell_dense',\n",
       " 'softmax_for_col_MPPvNKcell_activ',\n",
       " 'softmax_for_col_CMPvMEP_dense',\n",
       " 'softmax_for_col_CMPvMEP_activ',\n",
       " 'softmax_for_col_HSCvLMPP_dense',\n",
       " 'softmax_for_col_HSCvLMPP_activ',\n",
       " 'softmax_for_col_CMPvMonocyte_dense',\n",
       " 'softmax_for_col_CMPvMonocyte_activ',\n",
       " 'softmax_for_col_CMPvErythroid_dense',\n",
       " 'softmax_for_col_CMPvErythroid_activ',\n",
       " 'softmax_for_col_LMPPvMonocyte_dense',\n",
       " 'softmax_for_col_LMPPvMonocyte_activ',\n",
       " 'softmax_for_col_MPPvLMPP_dense',\n",
       " 'softmax_for_col_MPPvLMPP_activ',\n",
       " 'softmax_for_col_LMPPvCD4_dense',\n",
       " 'softmax_for_col_LMPPvCD4_activ',\n",
       " 'softmax_for_col_LMPPvNKcell_dense',\n",
       " 'softmax_for_col_LMPPvNKcell_activ',\n",
       " 'softmax_for_col_CMPvLSC_dense',\n",
       " 'softmax_for_col_CMPvLSC_activ',\n",
       " 'softmax_for_col_LMPPvCD8_dense',\n",
       " 'softmax_for_col_LMPPvCD8_activ',\n",
       " 'softmax_for_col_pHSCvLSC_dense',\n",
       " 'softmax_for_col_pHSCvLSC_activ',\n",
       " 'softmax_for_col_LMPPvCLP_dense',\n",
       " 'softmax_for_col_LMPPvCLP_activ',\n",
       " 'softmax_for_col_HSC|MPPvLeuk_dense',\n",
       " 'softmax_for_col_HSC|MPPvLeuk_activ',\n",
       " 'softmax_for_col_CMPvLeuk_dense',\n",
       " 'softmax_for_col_CMPvLeuk_activ',\n",
       " 'softmax_for_col_HSCvCD8_dense',\n",
       " 'softmax_for_col_HSCvCD8_activ',\n",
       " 'softmax_for_col_HSCvCD4_dense',\n",
       " 'softmax_for_col_HSCvCD4_activ',\n",
       " 'softmax_for_col_HSC|MPPvLSC_dense',\n",
       " 'softmax_for_col_HSC|MPPvLSC_activ',\n",
       " 'softmax_for_col_MPPvCMP_dense',\n",
       " 'softmax_for_col_MPPvCMP_activ',\n",
       " 'softmax_for_col_HSCvErythroid_dense',\n",
       " 'softmax_for_col_HSCvErythroid_activ',\n",
       " 'softmax_for_col_GMPvLeuk_dense',\n",
       " 'softmax_for_col_GMPvLeuk_activ',\n",
       " 'softmax_for_col_MEPvErythroid_dense',\n",
       " 'softmax_for_col_MEPvErythroid_activ',\n",
       " 'softmax_for_col_MPPvCD4_dense',\n",
       " 'softmax_for_col_MPPvCD4_activ',\n",
       " 'softmax_for_col_pHSCvLeuk_dense',\n",
       " 'softmax_for_col_pHSCvLeuk_activ',\n",
       " 'softmax_for_col_HSCvCMP_dense',\n",
       " 'softmax_for_col_HSCvCMP_activ',\n",
       " 'softmax_for_col_CMPvGMP_dense',\n",
       " 'softmax_for_col_CMPvGMP_activ',\n",
       " 'softmax_for_col_LMPPvGMP_dense',\n",
       " 'softmax_for_col_LMPPvGMP_activ',\n",
       " 'softmax_for_col_CLPvBcell_dense',\n",
       " 'softmax_for_col_CLPvBcell_activ',\n",
       " 'softmax_for_col_MPPvCD8_dense',\n",
       " 'softmax_for_col_MPPvCD8_activ',\n",
       " 'softmax_for_col_MPPvErythroid_dense',\n",
       " 'softmax_for_col_MPPvErythroid_activ',\n",
       " 'softmax_for_col_HSCvNKcell_dense',\n",
       " 'softmax_for_col_HSCvNKcell_activ',\n",
       " 'softmax_for_col_HSCvMonocyte_dense',\n",
       " 'softmax_for_col_HSCvMonocyte_activ',\n",
       " 'softmax_for_col_MonocytevLeuk_dense',\n",
       " 'softmax_for_col_MonocytevLeuk_activ',\n",
       " 'softmax_for_col_HSCvBcell_dense',\n",
       " 'softmax_for_col_HSCvBcell_activ',\n",
       " 'softmax_for_col_HSC|MPPvpHSC_dense',\n",
       " 'softmax_for_col_HSC|MPPvpHSC_activ',\n",
       " 'softmax_for_col_LMPPvBcell_dense',\n",
       " 'softmax_for_col_LMPPvBcell_activ',\n",
       " 'softmax_for_col_HSCvMPP_dense',\n",
       " 'softmax_for_col_HSCvMPP_activ',\n",
       " 'softmax_for_col_HSCvMEP_dense',\n",
       " 'softmax_for_col_HSCvMEP_activ']"
      ]
     },
     "execution_count": 5,
     "metadata": {},
     "output_type": "execute_result"
    }
   ],
   "source": [
    "keras_model.nodes.keys()"
   ]
  },
  {
   "cell_type": "code",
   "execution_count": 64,
   "metadata": {
    "collapsed": false,
    "scrolled": false
   },
   "outputs": [],
   "source": [
    "import keras_conversion as kc\n",
    "import models\n",
    "reload(models)\n",
    "reload(kc)\n",
    "import blobs\n",
    "reload(blobs)\n",
    "from blobs import MxtsMode\n",
    "deeplift_model = kc.convert_graph_model(keras_model, mxts_mode=MxtsMode.Gradient)"
   ]
  },
  {
   "cell_type": "code",
   "execution_count": 53,
   "metadata": {
    "collapsed": false
   },
   "outputs": [],
   "source": [
    "#let's forward prop a bunch of random sequences through it\n",
    "random_sequences = np.random.uniform(size=(2000,1,4,1000))"
   ]
  },
  {
   "cell_type": "code",
   "execution_count": 58,
   "metadata": {
    "collapsed": true
   },
   "outputs": [],
   "source": [
    "#will randomly check a couple of the outputs\n",
    "outputs_to_check = ['softmax_for_col_HSCvBcell_activ', 'softmax_for_col_HSCvErythroid_activ','binary_peaks_activ']"
   ]
  },
  {
   "cell_type": "code",
   "execution_count": 59,
   "metadata": {
    "collapsed": false
   },
   "outputs": [],
   "source": [
    "import theano\n",
    "#compile theano functions to compute outputs for keras model\n",
    "keras_theano_funcs = [\n",
    "    theano.function([keras_model.inputs['input'].input],\n",
    "                    keras_model.nodes[output_layer_name].get_output(),\n",
    "                    allow_input_downcast=True)\n",
    "    for output_layer_name in outputs_to_check\n",
    "]"
   ]
  },
  {
   "cell_type": "code",
   "execution_count": 60,
   "metadata": {
    "collapsed": false
   },
   "outputs": [],
   "source": [
    "#compile theano funcs to compute otuputs for deeplift model\n",
    "deeplift_theano_funcs = [\n",
    "    theano.function([deeplift_model.get_name_to_blob()['input'].get_activation_vars()],\n",
    "                    deeplift_model.get_name_to_blob()[output_layer_name].get_activation_vars(),\n",
    "                    allow_input_downcast=True) for output_layer_name in outputs_to_check\n",
    "]"
   ]
  },
  {
   "cell_type": "code",
   "execution_count": 61,
   "metadata": {
    "collapsed": false
   },
   "outputs": [],
   "source": [
    "#get the fprop results for both keras and deeplift\n",
    "import deeplift_util\n",
    "#run the functions on all the inputs\n",
    "keras_results, deeplift_results = [[deeplift_util.run_function_in_batches(\n",
    "                                     func, input_data_list=[random_sequences],\n",
    "                                     batch_size=10, progress_update=None) for func in funcs]\n",
    "                                    for funcs in [keras_theano_funcs, deeplift_theano_funcs]]"
   ]
  },
  {
   "cell_type": "code",
   "execution_count": 63,
   "metadata": {
    "collapsed": false
   },
   "outputs": [
    {
     "name": "stdout",
     "output_type": "stream",
     "text": [
      "3.57628e-07\n",
      "5.36442e-07\n",
      "0.0\n"
     ]
    }
   ],
   "source": [
    "#verify that they differ by tiny amounts\n",
    "#You expect a slight difference in the softmax caused by the normalization\n",
    "for keras_result, deeplift_result in zip(keras_results, deeplift_results):\n",
    "    print(np.max(np.abs(np.array(keras_result)-np.array(deeplift_result))))"
   ]
  },
  {
   "cell_type": "code",
   "execution_count": 66,
   "metadata": {
    "collapsed": true
   },
   "outputs": [],
   "source": [
    "#make sure multiplier computation and stuff works; will check this by checking that gradient computation works\n",
    "output_layer_name = 'softmax_for_col_HSCvBcell_dense'\n",
    "input_layer_name = 'input'"
   ]
  },
  {
   "cell_type": "code",
   "execution_count": 48,
   "metadata": {
    "collapsed": false
   },
   "outputs": [],
   "source": [
    "#function that computes the gradients with T.grad\n",
    "direct_gradient_function = theano.function(\n",
    "                            [deeplift_model.get_name_to_blob()['input'].get_activation_vars()],\n",
    "                            theano.tensor.grad(\n",
    "                             theano.tensor.sum(deeplift_model.get_name_to_blob()[output_layer_name].get_activation_vars()[:,2]),\n",
    "                                               deeplift_model.get_name_to_blob()[input_layer_name].get_activation_vars()),\n",
    "                            allow_input_downcast=True)"
   ]
  },
  {
   "cell_type": "code",
   "execution_count": 67,
   "metadata": {
    "collapsed": false
   },
   "outputs": [],
   "source": [
    "#function that computes the gradients analogously to how I compute deeplift scores (remember MxtsMode was set to Gradient)\n",
    "multipliers_func = deeplift_model.get_target_multipliers_func(\n",
    "                 find_scores_layer_name=input_layer_name,\n",
    "                 pre_activation_target_layer_name=output_layer_name)"
   ]
  },
  {
   "cell_type": "code",
   "execution_count": 54,
   "metadata": {
    "collapsed": false
   },
   "outputs": [
    {
     "name": "stdout",
     "output_type": "stream",
     "text": [
      "Done 0\n",
      "Done 200\n",
      "Done 400\n",
      "Done 600\n",
      "Done 800\n",
      "Done 1000\n",
      "Done 1200\n",
      "Done 1400\n",
      "Done 1600\n",
      "Done 1800\n"
     ]
    }
   ],
   "source": [
    "#run the multipliers function\n",
    "multipliers = multipliers_func(task_idx=2, input_data_list=[random_sequences], batch_size=10, progress_update=200)"
   ]
  },
  {
   "cell_type": "code",
   "execution_count": 56,
   "metadata": {
    "collapsed": false
   },
   "outputs": [
    {
     "name": "stdout",
     "output_type": "stream",
     "text": [
      "Done 0\n",
      "Done 200\n",
      "Done 400\n",
      "Done 600\n",
      "Done 800\n",
      "Done 1000\n",
      "Done 1200\n",
      "Done 1400\n",
      "Done 1600\n",
      "Done 1800\n"
     ]
    }
   ],
   "source": [
    "#run the theano function that uses T.grad\n",
    "gradients_direct = deeplift_util.run_function_in_batches(direct_gradient_function,\n",
    "                                                         input_data_list=[random_sequences], batch_size=10, progress_update=200)"
   ]
  },
  {
   "cell_type": "code",
   "execution_count": 57,
   "metadata": {
    "collapsed": false
   },
   "outputs": [
    {
     "data": {
      "text/plain": [
       "1.4901161e-07"
      ]
     },
     "execution_count": 57,
     "metadata": {},
     "output_type": "execute_result"
    }
   ],
   "source": [
    "#compare results\n",
    "np.max(np.abs(np.array(multipliers)-np.array(gradients_direct)))"
   ]
  },
  {
   "cell_type": "code",
   "execution_count": null,
   "metadata": {
    "collapsed": true
   },
   "outputs": [],
   "source": []
  }
 ],
 "metadata": {
  "kernelspec": {
   "display_name": "Python 2",
   "language": "python",
   "name": "python2"
  },
  "language_info": {
   "codemirror_mode": {
    "name": "ipython",
    "version": 2
   },
   "file_extension": ".py",
   "mimetype": "text/x-python",
   "name": "python",
   "nbconvert_exporter": "python",
   "pygments_lexer": "ipython2",
   "version": "2.7.11"
  }
 },
 "nbformat": 4,
 "nbformat_minor": 0
}
