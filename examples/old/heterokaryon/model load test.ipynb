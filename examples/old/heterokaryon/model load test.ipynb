{
 "cells": [
  {
   "cell_type": "code",
   "execution_count": 1,
   "metadata": {
    "collapsed": false
   },
   "outputs": [
    {
     "name": "stderr",
     "output_type": "stream",
     "text": [
      "Using gpu device 4: GeForce GTX TITAN X (CNMeM is disabled, cuDNN 5004)\n"
     ]
    }
   ],
   "source": [
    "%matplotlib inline\n",
    "from __future__ import division;\n",
    "from __future__ import print_function;\n",
    "from __future__ import absolute_import;\n",
    "import sys, os;\n",
    "from collections import OrderedDict, namedtuple;\n",
    "import numpy as np;\n",
    "\n",
    "#import deepLIFT stuff\n",
    "scriptsDir = os.environ.get(\"DEEPLIFT_DIR\");\n",
    "if (scriptsDir is None):\n",
    "    raise Exception(\"Please set environment variable DEEPLIFT_DIR to point to the deeplift code (WITHIN the deeplift repo)\");\n",
    "sys.path.insert(0,scriptsDir);\n",
    "#Make sure the directory is set to import the lab's version of keras\n",
    "scriptsDir = os.environ.get(\"KERAS_DIR\");\n",
    "if (scriptsDir is None):\n",
    "    raise Exception(\"Please set environment variable KERAS_DIR\");\n",
    "sys.path.insert(0,scriptsDir)\n",
    "\n",
    "import keras_conversion as kc\n",
    "import theano\n",
    "import models\n",
    "from blobs import MxtsMode\n",
    "import deeplift_util"
   ]
  },
  {
   "cell_type": "code",
   "execution_count": 2,
   "metadata": {
    "collapsed": false
   },
   "outputs": [
    {
     "name": "stdout",
     "output_type": "stream",
     "text": [
      "Warning: I (Av/Anna) haven't yet put in the logic for loading the weighted_binary_crossentropy loss from a yaml file.so I am going to replace it with a 'binary_crossentropy' which should be fine as long as you are not planning to fine-tune this model further. If you are planning to fine tune it further then I think you need to call model_from_config with your the weighted_binary_crossentropy loss function put in as an entry for custom_objects\n"
     ]
    },
    {
     "name": "stderr",
     "output_type": "stream",
     "text": [
      "Using Theano backend.\n",
      "/users/avanti/anaconda2/lib/python2.7/site-packages/theano/tensor/signal/downsample.py:6: UserWarning: downsample module has been moved to the theano.tensor.signal.pool module.\n",
      "  \"downsample module has been moved to the theano.tensor.signal.pool module.\")\n"
     ]
    }
   ],
   "source": [
    "model_weights  = \"record_82_model_mQtha_modelWeights.h5\"\n",
    "model_yaml = \"record_82_model_mQtha_modelYaml.yaml\"\n",
    "keras_model = kc.load_keras_model(model_weights, model_yaml,\n",
    "                                  normalise_conv_for_one_hot_encoded_input=True)"
   ]
  },
  {
   "cell_type": "code",
   "execution_count": 3,
   "metadata": {
    "collapsed": false
   },
   "outputs": [
    {
     "data": {
      "text/plain": [
       "[<keras.layers.convolutional.Convolution2D at 0x7f84cfe3dd50>,\n",
       " <keras.layers.normalization.BatchNormalization at 0x7f84cfe3db90>,\n",
       " <keras.layers.core.Activation at 0x7f84cf9bc890>,\n",
       " <keras.layers.convolutional.MaxPooling2D at 0x7f84cf9bc8d0>,\n",
       " <keras.layers.convolutional.Convolution2D at 0x7f84cf9bca10>,\n",
       " <keras.layers.normalization.BatchNormalization at 0x7f84cf9bcad0>,\n",
       " <keras.layers.core.Activation at 0x7f84cf9bce50>,\n",
       " <keras.layers.convolutional.MaxPooling2D at 0x7f84cf9bce90>,\n",
       " <keras.layers.convolutional.Convolution2D at 0x7f84cf9bcfd0>,\n",
       " <keras.layers.normalization.BatchNormalization at 0x7f84cf9c50d0>,\n",
       " <keras.layers.core.Activation at 0x7f84cf9c5450>,\n",
       " <keras.layers.convolutional.MaxPooling2D at 0x7f84cf9c5490>,\n",
       " <keras.layers.core.Flatten at 0x7f84cf9c55d0>,\n",
       " <keras.layers.core.Dense at 0x7f84cf9c5610>,\n",
       " <keras.layers.advanced_activations.PReLU at 0x7f84cf9c5710>,\n",
       " <keras.layers.core.Dropout at 0x7f84cf9c5a90>,\n",
       " <keras.layers.core.Dense at 0x7f84cf9c5ad0>,\n",
       " <keras.layers.advanced_activations.PReLU at 0x7f84cf9c5bd0>,\n",
       " <keras.layers.core.Dropout at 0x7f84cf9c5f50>,\n",
       " <keras.layers.core.Dense at 0x7f84cf9c5f90>,\n",
       " <keras.layers.core.Activation at 0x7f84cf9c5fd0>]"
      ]
     },
     "execution_count": 3,
     "metadata": {},
     "output_type": "execute_result"
    }
   ],
   "source": [
    "keras_model.layers"
   ]
  },
  {
   "cell_type": "code",
   "execution_count": 4,
   "metadata": {
    "collapsed": false
   },
   "outputs": [
    {
     "data": {
      "text/plain": [
       "{'W_constraint': None,\n",
       " 'W_learning_rate_multiplier': 10.0,\n",
       " 'W_regularizer': None,\n",
       " 'activation': 'linear',\n",
       " 'activity_regularizer': None,\n",
       " 'b_constraint': None,\n",
       " 'b_learning_rate_multiplier': 1.0,\n",
       " 'b_regularizer': None,\n",
       " 'border_mode': 'valid',\n",
       " 'cache_enabled': True,\n",
       " 'custom_name': 'convolution2d',\n",
       " 'dim_ordering': 'th',\n",
       " 'init': 'glorot_uniform',\n",
       " 'input_shape': (1, 4, 2000),\n",
       " 'name': 'Convolution2D',\n",
       " 'nb_col': 19,\n",
       " 'nb_filter': 300,\n",
       " 'nb_row': 4,\n",
       " 'subsample': (1, 1),\n",
       " 'trainable': True}"
      ]
     },
     "execution_count": 4,
     "metadata": {},
     "output_type": "execute_result"
    }
   ],
   "source": [
    "keras_model.layers[0].get_config()"
   ]
  },
  {
   "cell_type": "code",
   "execution_count": 5,
   "metadata": {
    "collapsed": false
   },
   "outputs": [
    {
     "data": {
      "text/plain": [
       "(300,)"
      ]
     },
     "execution_count": 5,
     "metadata": {},
     "output_type": "execute_result"
    }
   ],
   "source": [
    "keras_model.layers[1].running_mean.get_value().shape"
   ]
  },
  {
   "cell_type": "code",
   "execution_count": 10,
   "metadata": {
    "collapsed": false,
    "scrolled": false
   },
   "outputs": [],
   "source": [
    "import keras_conversion as kc\n",
    "import deeplift_backend as B\n",
    "reload(B)\n",
    "import models\n",
    "reload(models)\n",
    "reload(kc)\n",
    "import blobs\n",
    "reload(blobs)\n",
    "from blobs import MxtsMode\n",
    "deeplift_model = kc.convert_sequential_model(keras_model, mxts_mode=MxtsMode.Gradient)"
   ]
  },
  {
   "cell_type": "code",
   "execution_count": 11,
   "metadata": {
    "collapsed": true
   },
   "outputs": [],
   "source": [
    "random_sequences = np.random.uniform(size=(100,1,4,2000))"
   ]
  },
  {
   "cell_type": "code",
   "execution_count": 12,
   "metadata": {
    "collapsed": false
   },
   "outputs": [],
   "source": [
    "import theano\n",
    "#compile theano functions to compute outputs for keras model\n",
    "keras_theano_func = theano.function([keras_model.layers[0].input],\n",
    "                    keras_model.layers[-1].get_output(),\n",
    "                    allow_input_downcast=True)"
   ]
  },
  {
   "cell_type": "code",
   "execution_count": 13,
   "metadata": {
    "collapsed": false
   },
   "outputs": [],
   "source": [
    "#compile theano funcs to compute otuputs for deeplift model\n",
    "deeplift_theano_func = theano.function([deeplift_model.get_layers()[0].get_activation_vars()],\n",
    "                                        deeplift_model.get_layers()[-1].get_activation_vars(),\n",
    "                                        allow_input_downcast=True)"
   ]
  },
  {
   "cell_type": "code",
   "execution_count": 14,
   "metadata": {
    "collapsed": false,
    "scrolled": false
   },
   "outputs": [],
   "source": [
    "keras_result, deeplift_result = [deeplift_util.run_function_in_batches(\n",
    "                                     func, input_data_list=[random_sequences],\n",
    "                                     batch_size=10, progress_update=None) for func in [keras_theano_func, deeplift_theano_func]]"
   ]
  },
  {
   "cell_type": "code",
   "execution_count": 15,
   "metadata": {
    "collapsed": false
   },
   "outputs": [
    {
     "name": "stdout",
     "output_type": "stream",
     "text": [
      "4.41074e-06\n"
     ]
    }
   ],
   "source": [
    "print(np.max(np.abs(np.array(keras_result)-np.array(deeplift_result))))"
   ]
  },
  {
   "cell_type": "code",
   "execution_count": 33,
   "metadata": {
    "collapsed": false,
    "scrolled": false
   },
   "outputs": [],
   "source": [
    "direct_gradient_function = theano.function(\n",
    "                            [deeplift_model.get_layers()[0].get_activation_vars()],\n",
    "                            theano.tensor.grad(\n",
    "                             theano.tensor.sum(deeplift_model.get_layers()[-2].get_activation_vars()[:,2]),\n",
    "                                               deeplift_model.get_layers()[0].get_activation_vars()),\n",
    "                            allow_input_downcast=True)"
   ]
  },
  {
   "cell_type": "code",
   "execution_count": 23,
   "metadata": {
    "collapsed": false
   },
   "outputs": [],
   "source": [
    "multipliers_func = deeplift_model.get_target_multipliers_func(find_scores_layer_idx=0)"
   ]
  },
  {
   "cell_type": "code",
   "execution_count": 34,
   "metadata": {
    "collapsed": false
   },
   "outputs": [],
   "source": [
    "direct_gradients = deeplift_util.run_function_in_batches(\n",
    "                                     direct_gradient_function, input_data_list=[random_sequences],\n",
    "                                     batch_size=10, progress_update=None)"
   ]
  },
  {
   "cell_type": "code",
   "execution_count": 25,
   "metadata": {
    "collapsed": true
   },
   "outputs": [],
   "source": [
    "deeplift_gradients = np.array(multipliers_func(task_idx=2, input_data_list=[random_sequences],\n",
    "                                               batch_size=10, progress_update=None))"
   ]
  },
  {
   "cell_type": "code",
   "execution_count": 35,
   "metadata": {
    "collapsed": false
   },
   "outputs": [
    {
     "name": "stdout",
     "output_type": "stream",
     "text": [
      "2.23517e-08\n"
     ]
    }
   ],
   "source": [
    "print(np.max(np.abs(np.array(direct_gradients)-np.array(deeplift_gradients))))"
   ]
  },
  {
   "cell_type": "code",
   "execution_count": null,
   "metadata": {
    "collapsed": true
   },
   "outputs": [],
   "source": []
  }
 ],
 "metadata": {
  "kernelspec": {
   "display_name": "Python 2",
   "language": "python",
   "name": "python2"
  },
  "language_info": {
   "codemirror_mode": {
    "name": "ipython",
    "version": 2
   },
   "file_extension": ".py",
   "mimetype": "text/x-python",
   "name": "python",
   "nbconvert_exporter": "python",
   "pygments_lexer": "ipython2",
   "version": "2.7.11"
  }
 },
 "nbformat": 4,
 "nbformat_minor": 0
}
